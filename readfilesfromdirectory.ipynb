{
  "nbformat": 4,
  "nbformat_minor": 0,
  "metadata": {
    "colab": {
      "provenance": [],
      "authorship_tag": "ABX9TyPHVOqfYj+0hZn2Wgk/7gPJ",
      "include_colab_link": true
    },
    "kernelspec": {
      "name": "python3",
      "display_name": "Python 3"
    },
    "language_info": {
      "name": "python"
    }
  },
  "cells": [
    {
      "cell_type": "markdown",
      "metadata": {
        "id": "view-in-github",
        "colab_type": "text"
      },
      "source": [
        "<a href=\"https://colab.research.google.com/github/duane-edgington/PAM_marine_mammels/blob/main/readfilesfromdirectory.ipynb\" target=\"_parent\"><img src=\"https://colab.research.google.com/assets/colab-badge.svg\" alt=\"Open In Colab\"/></a>"
      ]
    },
    {
      "cell_type": "code",
      "source": [
        "import os\n",
        "HOME = os.getcwd()\n",
        "print(HOME)"
      ],
      "metadata": {
        "colab": {
          "base_uri": "https://localhost:8080/"
        },
        "id": "IXf3KV-XlUKw",
        "outputId": "59fa5add-bc0a-4f76-b529-dfe59b4d5cd8"
      },
      "execution_count": null,
      "outputs": [
        {
          "output_type": "stream",
          "name": "stdout",
          "text": [
            "/content\n"
          ]
        }
      ]
    },
    {
      "cell_type": "code",
      "execution_count": null,
      "metadata": {
        "colab": {
          "base_uri": "https://localhost:8080/"
        },
        "id": "Hz1pNb2uh7Jl",
        "outputId": "ad38bd18-193c-4cde-f5e1-802445d4a552"
      },
      "outputs": [
        {
          "output_type": "stream",
          "name": "stdout",
          "text": [
            "Mounted at /content/drive\n"
          ]
        }
      ],
      "source": [
        "# Connect Google Drive\n",
        "from google.colab import drive\n",
        "drive.mount(\"/content/drive\", force_remount=True) # This will prompt for authorization.\n",
        "\n",
        "# This will create the uavs files if they don't exist.\n",
        "folders =  [\"test_files/\"]\n",
        "for folder in folders:\n",
        "  path = \"/content/drive/MyDrive/\" + folder\n",
        "  if not os.path.exists(path): # Create the folder if it does not exist\n",
        "    os.mkdir(path)"
      ]
    },
    {
      "cell_type": "code",
      "source": [
        "import os\n",
        "import shutil\n",
        "\n",
        "def copy_files(src_dir, dst_dir):\n",
        "    \"\"\"\n",
        "    Copies all files from the source directory to the destination directory.\n",
        "\n",
        "    :param src_dir: Path to the source directory.\n",
        "    :param dst_dir: Path to the destination directory.\n",
        "    \"\"\"\n",
        "    # Ensure the source directory exists\n",
        "    if not os.path.exists(src_dir):\n",
        "        print(f\"Source directory '{src_dir}' does not exist.\")\n",
        "        return\n",
        "\n",
        "    # Create the destination directory if it doesn't exist\n",
        "    if not os.path.exists(dst_dir):\n",
        "        os.makedirs(dst_dir)\n",
        "\n",
        "    # Iterate over all files in the source directory\n",
        "    for filename in os.listdir(src_dir):\n",
        "        src_file_path = os.path.join(src_dir, filename)\n",
        "        dst_file_path = os.path.join(dst_dir, filename)\n",
        "\n",
        "        # Check if it's a file (not a directory)\n",
        "        if os.path.isfile(src_file_path):\n",
        "            print(f\"Copying {src_file_path} to {dst_file_path}\")\n",
        "            shutil.copy2(src_file_path, dst_file_path)\n",
        "        else:\n",
        "            print(f\"Skipping {src_file_path} (not a file)\")\n",
        "\n",
        "# Example usage:\n",
        "# copy_files('/path/to/source_directory', '/path/to/destination_directory')"
      ],
      "metadata": {
        "id": "9pwVyy_GRV8z"
      },
      "execution_count": null,
      "outputs": []
    },
    {
      "cell_type": "code",
      "source": [
        "copy_files('/content/drive/MyDrive/test_files/', '/content/')\n",
        "#!cp -r /content/drive/MyDrive/test_files/ /content/"
      ],
      "metadata": {
        "colab": {
          "base_uri": "https://localhost:8080/"
        },
        "id": "IkIILyhmLYuG",
        "outputId": "7d9b7384-190a-467b-c7f5-3512bc610656"
      },
      "execution_count": null,
      "outputs": [
        {
          "output_type": "stream",
          "name": "stdout",
          "text": [
            "Copying /content/drive/MyDrive/test_files/file1.txt to /content/file1.txt\n",
            "Copying /content/drive/MyDrive/test_files/file2.txt to /content/file2.txt\n",
            "Copying /content/drive/MyDrive/test_files/file3.txt to /content/file3.txt\n",
            "Copying /content/drive/MyDrive/test_files/file_names.txt to /content/file_names.txt\n"
          ]
        }
      ]
    },
    {
      "cell_type": "code",
      "source": [
        "import os\n",
        "import shutil\n",
        "\n",
        "def move_files(source_dir, destination_dir):\n",
        "    \"\"\"\n",
        "    Moves all files from the source directory to the destination directory.\n",
        "\n",
        "    :param source_dir: Path to the source directory.\n",
        "    :param destination_dir: Path to the destination directory.\n",
        "    \"\"\"\n",
        "    # Check if the source directory exists\n",
        "    if not os.path.exists(source_dir):\n",
        "        print(f\"Source directory '{source_dir}' does not exist.\")\n",
        "        return\n",
        "\n",
        "    # Check if the destination directory exists, if not, create it\n",
        "    if not os.path.exists(destination_dir):\n",
        "        os.makedirs(destination_dir)\n",
        "\n",
        "    # Iterate over all files in the source directory\n",
        "    for filename in os.listdir(source_dir):\n",
        "        source_file = os.path.join(source_dir, filename)\n",
        "        destination_file = os.path.join(destination_dir, filename)\n",
        "\n",
        "        # Check if it's a file (not a directory)\n",
        "        if os.path.isfile(source_file):\n",
        "            # Move the file\n",
        "            shutil.move(source_file, destination_file)\n",
        "            print(f\"Moved '{filename}' to '{destination_dir}'\")\n",
        "\n",
        "## Example usage:\n",
        "#source_directory = '/path/to/source/directory'\n",
        "#destination_directory = '/path/to/destination/directory'\n",
        "\n",
        "\n",
        "#move_files(source_directory, destination_directory)"
      ],
      "metadata": {
        "id": "3WvIjEpLNYo9"
      },
      "execution_count": null,
      "outputs": []
    },
    {
      "cell_type": "code",
      "source": [
        "def process_file(file_name):\n",
        "    # Replace this with your actual file processing logic\n",
        "    print(f\"Processing file: {file_name}\")\n",
        "    # Example: Open and read the file\n",
        "    try:\n",
        "        with open(file_name, 'r') as file:\n",
        "            content = file.read()\n",
        "            print(f\"Content of {file_name}:\\n{content}\")\n",
        "    except FileNotFoundError:\n",
        "        print(f\"File {file_name} not found.\")"
      ],
      "metadata": {
        "id": "bOJUAmXeJXe5"
      },
      "execution_count": null,
      "outputs": []
    },
    {
      "cell_type": "code",
      "source": [
        "def main():\n",
        "    # Path to the external file containing file names\n",
        "    file_list_path = 'file_names.txt'\n",
        "\n",
        "    try:\n",
        "        # Open the file and read the file names\n",
        "        with open(file_list_path, 'r') as file:\n",
        "            file_names = file.read().splitlines()\n",
        "\n",
        "        # Loop through each file name and call the process_file procedure\n",
        "        for file_name in file_names:\n",
        "            process_file(file_name)\n",
        "\n",
        "    except FileNotFoundError:\n",
        "        print(f\"The file {file_list_path} was not found.\")\n"
      ],
      "metadata": {
        "id": "hl6-rZkZofoT"
      },
      "execution_count": null,
      "outputs": []
    },
    {
      "cell_type": "code",
      "source": [
        "main_file_loop()"
      ],
      "metadata": {
        "colab": {
          "base_uri": "https://localhost:8080/"
        },
        "id": "cJlZ4OKPMH5T",
        "outputId": "a9f807f2-6d82-4709-b3b1-0dcaf1c05e54"
      },
      "execution_count": null,
      "outputs": [
        {
          "output_type": "stream",
          "name": "stdout",
          "text": [
            "Processing file: file1.txt\n",
            "Content of file1.txt:\n",
            "Hello There. File 1 here.\n",
            "Processing file: file2.txt\n",
            "Content of file2.txt:\n",
            "This is file 2.\n",
            "Processing file: file3.txt\n",
            "Content of file3.txt:\n",
            "File three here!\n"
          ]
        }
      ]
    }
  ]
}